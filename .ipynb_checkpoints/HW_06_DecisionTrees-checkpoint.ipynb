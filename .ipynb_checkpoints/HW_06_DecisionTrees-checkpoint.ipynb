{
 "cells": [
  {
   "cell_type": "code",
   "execution_count": 1,
   "id": "e336f918-5e64-420f-9212-ec9a9a9c3a33",
   "metadata": {},
   "outputs": [],
   "source": [
    "import pandas as pd\n",
    "import numpy as np\n",
    "import matplotlib.pyplot as plt\n",
    "from sklearn.model_selection import train_test_split\n",
    "from sklearn.feature_extraction import DictVectorizer"
   ]
  },
  {
   "cell_type": "code",
   "execution_count": 42,
   "id": "d2120d01-fc4b-4044-9a5c-ab94fb840f8a",
   "metadata": {},
   "outputs": [
    {
     "name": "stderr",
     "output_type": "stream",
     "text": [
      "  % Total    % Received % Xferd  Average Speed   Time    Time     Time  Current\n",
      "                                 Dload  Upload   Total   Spent    Left  Speed\n",
      "\n",
      "  0     0    0     0    0     0      0      0 --:--:-- --:--:-- --:--:--     0\n",
      "  0     0    0     0    0     0      0      0 --:--:-- --:--:-- --:--:--     0\n",
      "100 1390k  100 1390k    0     0  1427k      0 --:--:-- --:--:-- --:--:-- 1427k\n"
     ]
    }
   ],
   "source": [
    "!curl -LJO https://raw.githubusercontent.com/alexeygrigorev/datasets/master/housing.csv\n",
    "data = pd.read_csv('housing.csv')"
   ]
  },
  {
   "cell_type": "code",
   "execution_count": 43,
   "id": "f05f32d4-886c-4681-83ca-96627a4a0b32",
   "metadata": {},
   "outputs": [
    {
     "data": {
      "text/html": [
       "<div>\n",
       "<style scoped>\n",
       "    .dataframe tbody tr th:only-of-type {\n",
       "        vertical-align: middle;\n",
       "    }\n",
       "\n",
       "    .dataframe tbody tr th {\n",
       "        vertical-align: top;\n",
       "    }\n",
       "\n",
       "    .dataframe thead th {\n",
       "        text-align: right;\n",
       "    }\n",
       "</style>\n",
       "<table border=\"1\" class=\"dataframe\">\n",
       "  <thead>\n",
       "    <tr style=\"text-align: right;\">\n",
       "      <th></th>\n",
       "      <th>longitude</th>\n",
       "      <th>latitude</th>\n",
       "      <th>housing_median_age</th>\n",
       "      <th>total_rooms</th>\n",
       "      <th>total_bedrooms</th>\n",
       "      <th>population</th>\n",
       "      <th>households</th>\n",
       "      <th>median_income</th>\n",
       "      <th>median_house_value</th>\n",
       "      <th>ocean_proximity</th>\n",
       "    </tr>\n",
       "  </thead>\n",
       "  <tbody>\n",
       "    <tr>\n",
       "      <th>0</th>\n",
       "      <td>-122.23</td>\n",
       "      <td>37.88</td>\n",
       "      <td>41.0</td>\n",
       "      <td>880.0</td>\n",
       "      <td>129.0</td>\n",
       "      <td>322.0</td>\n",
       "      <td>126.0</td>\n",
       "      <td>8.3252</td>\n",
       "      <td>452600.0</td>\n",
       "      <td>NEAR BAY</td>\n",
       "    </tr>\n",
       "    <tr>\n",
       "      <th>1</th>\n",
       "      <td>-122.22</td>\n",
       "      <td>37.86</td>\n",
       "      <td>21.0</td>\n",
       "      <td>7099.0</td>\n",
       "      <td>1106.0</td>\n",
       "      <td>2401.0</td>\n",
       "      <td>1138.0</td>\n",
       "      <td>8.3014</td>\n",
       "      <td>358500.0</td>\n",
       "      <td>NEAR BAY</td>\n",
       "    </tr>\n",
       "    <tr>\n",
       "      <th>2</th>\n",
       "      <td>-122.24</td>\n",
       "      <td>37.85</td>\n",
       "      <td>52.0</td>\n",
       "      <td>1467.0</td>\n",
       "      <td>190.0</td>\n",
       "      <td>496.0</td>\n",
       "      <td>177.0</td>\n",
       "      <td>7.2574</td>\n",
       "      <td>352100.0</td>\n",
       "      <td>NEAR BAY</td>\n",
       "    </tr>\n",
       "    <tr>\n",
       "      <th>3</th>\n",
       "      <td>-122.25</td>\n",
       "      <td>37.85</td>\n",
       "      <td>52.0</td>\n",
       "      <td>1274.0</td>\n",
       "      <td>235.0</td>\n",
       "      <td>558.0</td>\n",
       "      <td>219.0</td>\n",
       "      <td>5.6431</td>\n",
       "      <td>341300.0</td>\n",
       "      <td>NEAR BAY</td>\n",
       "    </tr>\n",
       "    <tr>\n",
       "      <th>4</th>\n",
       "      <td>-122.25</td>\n",
       "      <td>37.85</td>\n",
       "      <td>52.0</td>\n",
       "      <td>1627.0</td>\n",
       "      <td>280.0</td>\n",
       "      <td>565.0</td>\n",
       "      <td>259.0</td>\n",
       "      <td>3.8462</td>\n",
       "      <td>342200.0</td>\n",
       "      <td>NEAR BAY</td>\n",
       "    </tr>\n",
       "  </tbody>\n",
       "</table>\n",
       "</div>"
      ],
      "text/plain": [
       "   longitude  latitude  housing_median_age  total_rooms  total_bedrooms  \\\n",
       "0    -122.23     37.88                41.0        880.0           129.0   \n",
       "1    -122.22     37.86                21.0       7099.0          1106.0   \n",
       "2    -122.24     37.85                52.0       1467.0           190.0   \n",
       "3    -122.25     37.85                52.0       1274.0           235.0   \n",
       "4    -122.25     37.85                52.0       1627.0           280.0   \n",
       "\n",
       "   population  households  median_income  median_house_value ocean_proximity  \n",
       "0       322.0       126.0         8.3252            452600.0        NEAR BAY  \n",
       "1      2401.0      1138.0         8.3014            358500.0        NEAR BAY  \n",
       "2       496.0       177.0         7.2574            352100.0        NEAR BAY  \n",
       "3       558.0       219.0         5.6431            341300.0        NEAR BAY  \n",
       "4       565.0       259.0         3.8462            342200.0        NEAR BAY  "
      ]
     },
     "execution_count": 43,
     "metadata": {},
     "output_type": "execute_result"
    }
   ],
   "source": [
    "data.head()"
   ]
  },
  {
   "cell_type": "code",
   "execution_count": 64,
   "id": "a34e7d64-b748-44cd-8399-bc2d12e65554",
   "metadata": {},
   "outputs": [
    {
     "data": {
      "text/plain": [
       "array(['NEAR BAY', '<1H OCEAN', 'INLAND', 'NEAR OCEAN', 'ISLAND'],\n",
       "      dtype=object)"
      ]
     },
     "execution_count": 64,
     "metadata": {},
     "output_type": "execute_result"
    }
   ],
   "source": [
    "ocean_proximities = pd.unique(data.ocean_proximity)\n",
    "ocean_proximities"
   ]
  },
  {
   "cell_type": "code",
   "execution_count": 67,
   "id": "00e20dcc-986b-48b5-9d0c-a2d66940df88",
   "metadata": {},
   "outputs": [],
   "source": [
    "df = data[(data.ocean_proximity == '<1H OCEAN') | (data.ocean_proximity == 'INLAND')].reset_index(drop=True)"
   ]
  },
  {
   "cell_type": "code",
   "execution_count": 68,
   "id": "a26787fd-f8ca-4ec0-bab0-66189752eaff",
   "metadata": {},
   "outputs": [
    {
     "data": {
      "text/plain": [
       "ocean_proximity\n",
       "<1H OCEAN    9136\n",
       "INLAND       6551\n",
       "Name: count, dtype: int64"
      ]
     },
     "execution_count": 68,
     "metadata": {},
     "output_type": "execute_result"
    }
   ],
   "source": [
    "df['ocean_proximity'].value_counts()"
   ]
  },
  {
   "cell_type": "code",
   "execution_count": 69,
   "id": "0561acb4-9335-454b-8f7f-fd359cbaa0e2",
   "metadata": {},
   "outputs": [
    {
     "data": {
      "text/html": [
       "<div>\n",
       "<style scoped>\n",
       "    .dataframe tbody tr th:only-of-type {\n",
       "        vertical-align: middle;\n",
       "    }\n",
       "\n",
       "    .dataframe tbody tr th {\n",
       "        vertical-align: top;\n",
       "    }\n",
       "\n",
       "    .dataframe thead th {\n",
       "        text-align: right;\n",
       "    }\n",
       "</style>\n",
       "<table border=\"1\" class=\"dataframe\">\n",
       "  <thead>\n",
       "    <tr style=\"text-align: right;\">\n",
       "      <th></th>\n",
       "      <th>longitude</th>\n",
       "      <th>latitude</th>\n",
       "      <th>housing_median_age</th>\n",
       "      <th>total_rooms</th>\n",
       "      <th>total_bedrooms</th>\n",
       "      <th>population</th>\n",
       "      <th>households</th>\n",
       "      <th>median_income</th>\n",
       "      <th>median_house_value</th>\n",
       "      <th>ocean_proximity</th>\n",
       "    </tr>\n",
       "  </thead>\n",
       "  <tbody>\n",
       "    <tr>\n",
       "      <th>0</th>\n",
       "      <td>-121.97</td>\n",
       "      <td>37.64</td>\n",
       "      <td>32.0</td>\n",
       "      <td>1283.0</td>\n",
       "      <td>194.0</td>\n",
       "      <td>485.0</td>\n",
       "      <td>171.0</td>\n",
       "      <td>6.0574</td>\n",
       "      <td>431000.0</td>\n",
       "      <td>&lt;1H OCEAN</td>\n",
       "    </tr>\n",
       "    <tr>\n",
       "      <th>1</th>\n",
       "      <td>-121.99</td>\n",
       "      <td>37.61</td>\n",
       "      <td>9.0</td>\n",
       "      <td>3666.0</td>\n",
       "      <td>711.0</td>\n",
       "      <td>2341.0</td>\n",
       "      <td>703.0</td>\n",
       "      <td>4.6458</td>\n",
       "      <td>217000.0</td>\n",
       "      <td>&lt;1H OCEAN</td>\n",
       "    </tr>\n",
       "    <tr>\n",
       "      <th>2</th>\n",
       "      <td>-121.97</td>\n",
       "      <td>37.57</td>\n",
       "      <td>21.0</td>\n",
       "      <td>4342.0</td>\n",
       "      <td>783.0</td>\n",
       "      <td>2172.0</td>\n",
       "      <td>789.0</td>\n",
       "      <td>4.6146</td>\n",
       "      <td>247600.0</td>\n",
       "      <td>&lt;1H OCEAN</td>\n",
       "    </tr>\n",
       "    <tr>\n",
       "      <th>3</th>\n",
       "      <td>-121.96</td>\n",
       "      <td>37.58</td>\n",
       "      <td>15.0</td>\n",
       "      <td>3575.0</td>\n",
       "      <td>597.0</td>\n",
       "      <td>1777.0</td>\n",
       "      <td>559.0</td>\n",
       "      <td>5.7192</td>\n",
       "      <td>283500.0</td>\n",
       "      <td>&lt;1H OCEAN</td>\n",
       "    </tr>\n",
       "    <tr>\n",
       "      <th>4</th>\n",
       "      <td>-121.98</td>\n",
       "      <td>37.58</td>\n",
       "      <td>20.0</td>\n",
       "      <td>4126.0</td>\n",
       "      <td>1031.0</td>\n",
       "      <td>2079.0</td>\n",
       "      <td>975.0</td>\n",
       "      <td>3.6832</td>\n",
       "      <td>216900.0</td>\n",
       "      <td>&lt;1H OCEAN</td>\n",
       "    </tr>\n",
       "  </tbody>\n",
       "</table>\n",
       "</div>"
      ],
      "text/plain": [
       "   longitude  latitude  housing_median_age  total_rooms  total_bedrooms  \\\n",
       "0    -121.97     37.64                32.0       1283.0           194.0   \n",
       "1    -121.99     37.61                 9.0       3666.0           711.0   \n",
       "2    -121.97     37.57                21.0       4342.0           783.0   \n",
       "3    -121.96     37.58                15.0       3575.0           597.0   \n",
       "4    -121.98     37.58                20.0       4126.0          1031.0   \n",
       "\n",
       "   population  households  median_income  median_house_value ocean_proximity  \n",
       "0       485.0       171.0         6.0574            431000.0       <1H OCEAN  \n",
       "1      2341.0       703.0         4.6458            217000.0       <1H OCEAN  \n",
       "2      2172.0       789.0         4.6146            247600.0       <1H OCEAN  \n",
       "3      1777.0       559.0         5.7192            283500.0       <1H OCEAN  \n",
       "4      2079.0       975.0         3.6832            216900.0       <1H OCEAN  "
      ]
     },
     "execution_count": 69,
     "metadata": {},
     "output_type": "execute_result"
    }
   ],
   "source": [
    "df.head()"
   ]
  },
  {
   "cell_type": "code",
   "execution_count": 70,
   "id": "5acc167a-4a90-40de-b140-1448980ccc4a",
   "metadata": {},
   "outputs": [],
   "source": [
    "df['ocean_proximity'] = df['ocean_proximity'].apply(lambda x : 1 if x==ocean_proximities[1] else 2)"
   ]
  },
  {
   "cell_type": "code",
   "execution_count": 71,
   "id": "6cc189e1-d535-4ab2-93b1-7f29aca10e69",
   "metadata": {},
   "outputs": [
    {
     "data": {
      "text/plain": [
       "ocean_proximity\n",
       "1    9136\n",
       "2    6551\n",
       "Name: count, dtype: int64"
      ]
     },
     "execution_count": 71,
     "metadata": {},
     "output_type": "execute_result"
    }
   ],
   "source": [
    "df['ocean_proximity'].value_counts()"
   ]
  },
  {
   "cell_type": "code",
   "execution_count": 72,
   "id": "f701bf9c-0faf-424c-937c-978b215afc2f",
   "metadata": {},
   "outputs": [
    {
     "data": {
      "text/html": [
       "<div>\n",
       "<style scoped>\n",
       "    .dataframe tbody tr th:only-of-type {\n",
       "        vertical-align: middle;\n",
       "    }\n",
       "\n",
       "    .dataframe tbody tr th {\n",
       "        vertical-align: top;\n",
       "    }\n",
       "\n",
       "    .dataframe thead th {\n",
       "        text-align: right;\n",
       "    }\n",
       "</style>\n",
       "<table border=\"1\" class=\"dataframe\">\n",
       "  <thead>\n",
       "    <tr style=\"text-align: right;\">\n",
       "      <th></th>\n",
       "      <th>longitude</th>\n",
       "      <th>latitude</th>\n",
       "      <th>housing_median_age</th>\n",
       "      <th>total_rooms</th>\n",
       "      <th>total_bedrooms</th>\n",
       "      <th>population</th>\n",
       "      <th>households</th>\n",
       "      <th>median_income</th>\n",
       "      <th>median_house_value</th>\n",
       "      <th>ocean_proximity</th>\n",
       "    </tr>\n",
       "  </thead>\n",
       "  <tbody>\n",
       "    <tr>\n",
       "      <th>0</th>\n",
       "      <td>-121.97</td>\n",
       "      <td>37.64</td>\n",
       "      <td>32.0</td>\n",
       "      <td>1283.0</td>\n",
       "      <td>194.0</td>\n",
       "      <td>485.0</td>\n",
       "      <td>171.0</td>\n",
       "      <td>6.0574</td>\n",
       "      <td>431000.0</td>\n",
       "      <td>1</td>\n",
       "    </tr>\n",
       "    <tr>\n",
       "      <th>1</th>\n",
       "      <td>-121.99</td>\n",
       "      <td>37.61</td>\n",
       "      <td>9.0</td>\n",
       "      <td>3666.0</td>\n",
       "      <td>711.0</td>\n",
       "      <td>2341.0</td>\n",
       "      <td>703.0</td>\n",
       "      <td>4.6458</td>\n",
       "      <td>217000.0</td>\n",
       "      <td>1</td>\n",
       "    </tr>\n",
       "    <tr>\n",
       "      <th>2</th>\n",
       "      <td>-121.97</td>\n",
       "      <td>37.57</td>\n",
       "      <td>21.0</td>\n",
       "      <td>4342.0</td>\n",
       "      <td>783.0</td>\n",
       "      <td>2172.0</td>\n",
       "      <td>789.0</td>\n",
       "      <td>4.6146</td>\n",
       "      <td>247600.0</td>\n",
       "      <td>1</td>\n",
       "    </tr>\n",
       "    <tr>\n",
       "      <th>3</th>\n",
       "      <td>-121.96</td>\n",
       "      <td>37.58</td>\n",
       "      <td>15.0</td>\n",
       "      <td>3575.0</td>\n",
       "      <td>597.0</td>\n",
       "      <td>1777.0</td>\n",
       "      <td>559.0</td>\n",
       "      <td>5.7192</td>\n",
       "      <td>283500.0</td>\n",
       "      <td>1</td>\n",
       "    </tr>\n",
       "    <tr>\n",
       "      <th>4</th>\n",
       "      <td>-121.98</td>\n",
       "      <td>37.58</td>\n",
       "      <td>20.0</td>\n",
       "      <td>4126.0</td>\n",
       "      <td>1031.0</td>\n",
       "      <td>2079.0</td>\n",
       "      <td>975.0</td>\n",
       "      <td>3.6832</td>\n",
       "      <td>216900.0</td>\n",
       "      <td>1</td>\n",
       "    </tr>\n",
       "  </tbody>\n",
       "</table>\n",
       "</div>"
      ],
      "text/plain": [
       "   longitude  latitude  housing_median_age  total_rooms  total_bedrooms  \\\n",
       "0    -121.97     37.64                32.0       1283.0           194.0   \n",
       "1    -121.99     37.61                 9.0       3666.0           711.0   \n",
       "2    -121.97     37.57                21.0       4342.0           783.0   \n",
       "3    -121.96     37.58                15.0       3575.0           597.0   \n",
       "4    -121.98     37.58                20.0       4126.0          1031.0   \n",
       "\n",
       "   population  households  median_income  median_house_value  ocean_proximity  \n",
       "0       485.0       171.0         6.0574            431000.0                1  \n",
       "1      2341.0       703.0         4.6458            217000.0                1  \n",
       "2      2172.0       789.0         4.6146            247600.0                1  \n",
       "3      1777.0       559.0         5.7192            283500.0                1  \n",
       "4      2079.0       975.0         3.6832            216900.0                1  "
      ]
     },
     "execution_count": 72,
     "metadata": {},
     "output_type": "execute_result"
    }
   ],
   "source": [
    "df.head()"
   ]
  },
  {
   "cell_type": "code",
   "execution_count": 73,
   "id": "d5ad9b54-db3e-4e3c-a155-4d1a7e882a57",
   "metadata": {},
   "outputs": [
    {
     "name": "stdout",
     "output_type": "stream",
     "text": [
      "<class 'pandas.core.frame.DataFrame'>\n",
      "RangeIndex: 15687 entries, 0 to 15686\n",
      "Data columns (total 10 columns):\n",
      " #   Column              Non-Null Count  Dtype  \n",
      "---  ------              --------------  -----  \n",
      " 0   longitude           15687 non-null  float64\n",
      " 1   latitude            15687 non-null  float64\n",
      " 2   housing_median_age  15687 non-null  float64\n",
      " 3   total_rooms         15687 non-null  float64\n",
      " 4   total_bedrooms      15530 non-null  float64\n",
      " 5   population          15687 non-null  float64\n",
      " 6   households          15687 non-null  float64\n",
      " 7   median_income       15687 non-null  float64\n",
      " 8   median_house_value  15687 non-null  float64\n",
      " 9   ocean_proximity     15687 non-null  int64  \n",
      "dtypes: float64(9), int64(1)\n",
      "memory usage: 1.2 MB\n"
     ]
    }
   ],
   "source": [
    "df.info()"
   ]
  },
  {
   "cell_type": "code",
   "execution_count": 74,
   "id": "14455d00-9d7b-4583-831b-61c1ad35e5a8",
   "metadata": {},
   "outputs": [
    {
     "data": {
      "text/plain": [
       "longitude               0\n",
       "latitude                0\n",
       "housing_median_age      0\n",
       "total_rooms             0\n",
       "total_bedrooms        157\n",
       "population              0\n",
       "households              0\n",
       "median_income           0\n",
       "median_house_value      0\n",
       "ocean_proximity         0\n",
       "dtype: int64"
      ]
     },
     "execution_count": 74,
     "metadata": {},
     "output_type": "execute_result"
    }
   ],
   "source": [
    "df.isna().sum()"
   ]
  },
  {
   "cell_type": "code",
   "execution_count": 75,
   "id": "9b4af7c8-b7de-4678-861c-050d0bdcc22c",
   "metadata": {},
   "outputs": [],
   "source": [
    "df = df.fillna(0)"
   ]
  },
  {
   "cell_type": "code",
   "execution_count": 76,
   "id": "1960aed3-6d89-4ec5-b914-04f27fb33d1a",
   "metadata": {},
   "outputs": [],
   "source": [
    "df['median_house_value'] = np.log1p(df['median_house_value'])"
   ]
  },
  {
   "cell_type": "code",
   "execution_count": 77,
   "id": "898a8257-b49a-423e-8856-acfcbb68fcc1",
   "metadata": {},
   "outputs": [],
   "source": [
    "df_full_train, df_test = train_test_split(df, test_size = 0.2, random_state=1)"
   ]
  },
  {
   "cell_type": "code",
   "execution_count": 78,
   "id": "89da59e4-598a-457b-8539-d3b5e50f5413",
   "metadata": {},
   "outputs": [
    {
     "data": {
      "text/plain": [
       "(12549, 3138)"
      ]
     },
     "execution_count": 78,
     "metadata": {},
     "output_type": "execute_result"
    }
   ],
   "source": [
    "len(df_full_train), len(df_test)"
   ]
  },
  {
   "cell_type": "code",
   "execution_count": 79,
   "id": "0aa4f41f-b5a9-4bc5-ace0-99d449ae9199",
   "metadata": {},
   "outputs": [],
   "source": [
    "df_train, df_val = train_test_split(df_full_train, test_size = 0.25, random_state=1)"
   ]
  },
  {
   "cell_type": "code",
   "execution_count": 80,
   "id": "c2a5b780-f533-41cd-8b1d-bd5c07f9a8bb",
   "metadata": {},
   "outputs": [
    {
     "data": {
      "text/plain": [
       "(9411, 3138, 3138)"
      ]
     },
     "execution_count": 80,
     "metadata": {},
     "output_type": "execute_result"
    }
   ],
   "source": [
    "len(df_train), len(df_val), len(df_test)"
   ]
  },
  {
   "cell_type": "code",
   "execution_count": 81,
   "id": "60aede4e-221e-47a8-90e4-1ab87ebb2e39",
   "metadata": {},
   "outputs": [],
   "source": [
    "df_train = df_train.reset_index(drop=True)\n",
    "df_val = df_val.reset_index(drop=True)\n",
    "df_test = df_test.reset_index(drop=True)"
   ]
  },
  {
   "cell_type": "code",
   "execution_count": 82,
   "id": "e613ccfb-4b5e-475c-9ab2-6467c5aea965",
   "metadata": {},
   "outputs": [
    {
     "data": {
      "text/html": [
       "<div>\n",
       "<style scoped>\n",
       "    .dataframe tbody tr th:only-of-type {\n",
       "        vertical-align: middle;\n",
       "    }\n",
       "\n",
       "    .dataframe tbody tr th {\n",
       "        vertical-align: top;\n",
       "    }\n",
       "\n",
       "    .dataframe thead th {\n",
       "        text-align: right;\n",
       "    }\n",
       "</style>\n",
       "<table border=\"1\" class=\"dataframe\">\n",
       "  <thead>\n",
       "    <tr style=\"text-align: right;\">\n",
       "      <th></th>\n",
       "      <th>longitude</th>\n",
       "      <th>latitude</th>\n",
       "      <th>housing_median_age</th>\n",
       "      <th>total_rooms</th>\n",
       "      <th>total_bedrooms</th>\n",
       "      <th>population</th>\n",
       "      <th>households</th>\n",
       "      <th>median_income</th>\n",
       "      <th>median_house_value</th>\n",
       "      <th>ocean_proximity</th>\n",
       "    </tr>\n",
       "  </thead>\n",
       "  <tbody>\n",
       "    <tr>\n",
       "      <th>0</th>\n",
       "      <td>-120.25</td>\n",
       "      <td>37.93</td>\n",
       "      <td>13.0</td>\n",
       "      <td>493.0</td>\n",
       "      <td>76.0</td>\n",
       "      <td>196.0</td>\n",
       "      <td>68.0</td>\n",
       "      <td>3.3750</td>\n",
       "      <td>11.806349</td>\n",
       "      <td>2</td>\n",
       "    </tr>\n",
       "    <tr>\n",
       "      <th>1</th>\n",
       "      <td>-118.40</td>\n",
       "      <td>34.00</td>\n",
       "      <td>10.0</td>\n",
       "      <td>1526.0</td>\n",
       "      <td>339.0</td>\n",
       "      <td>705.0</td>\n",
       "      <td>268.0</td>\n",
       "      <td>5.8083</td>\n",
       "      <td>12.681689</td>\n",
       "      <td>1</td>\n",
       "    </tr>\n",
       "    <tr>\n",
       "      <th>2</th>\n",
       "      <td>-121.67</td>\n",
       "      <td>38.85</td>\n",
       "      <td>46.0</td>\n",
       "      <td>645.0</td>\n",
       "      <td>131.0</td>\n",
       "      <td>410.0</td>\n",
       "      <td>122.0</td>\n",
       "      <td>1.7417</td>\n",
       "      <td>11.611874</td>\n",
       "      <td>2</td>\n",
       "    </tr>\n",
       "    <tr>\n",
       "      <th>3</th>\n",
       "      <td>-118.14</td>\n",
       "      <td>33.88</td>\n",
       "      <td>24.0</td>\n",
       "      <td>3305.0</td>\n",
       "      <td>982.0</td>\n",
       "      <td>2085.0</td>\n",
       "      <td>881.0</td>\n",
       "      <td>2.6641</td>\n",
       "      <td>12.032915</td>\n",
       "      <td>1</td>\n",
       "    </tr>\n",
       "    <tr>\n",
       "      <th>4</th>\n",
       "      <td>-118.11</td>\n",
       "      <td>33.92</td>\n",
       "      <td>34.0</td>\n",
       "      <td>1414.0</td>\n",
       "      <td>263.0</td>\n",
       "      <td>983.0</td>\n",
       "      <td>264.0</td>\n",
       "      <td>4.1767</td>\n",
       "      <td>11.961456</td>\n",
       "      <td>1</td>\n",
       "    </tr>\n",
       "    <tr>\n",
       "      <th>...</th>\n",
       "      <td>...</td>\n",
       "      <td>...</td>\n",
       "      <td>...</td>\n",
       "      <td>...</td>\n",
       "      <td>...</td>\n",
       "      <td>...</td>\n",
       "      <td>...</td>\n",
       "      <td>...</td>\n",
       "      <td>...</td>\n",
       "      <td>...</td>\n",
       "    </tr>\n",
       "    <tr>\n",
       "      <th>9406</th>\n",
       "      <td>-118.00</td>\n",
       "      <td>34.12</td>\n",
       "      <td>37.0</td>\n",
       "      <td>1340.0</td>\n",
       "      <td>325.0</td>\n",
       "      <td>928.0</td>\n",
       "      <td>333.0</td>\n",
       "      <td>3.9219</td>\n",
       "      <td>12.072547</td>\n",
       "      <td>2</td>\n",
       "    </tr>\n",
       "    <tr>\n",
       "      <th>9407</th>\n",
       "      <td>-118.10</td>\n",
       "      <td>34.10</td>\n",
       "      <td>34.0</td>\n",
       "      <td>2578.0</td>\n",
       "      <td>645.0</td>\n",
       "      <td>1628.0</td>\n",
       "      <td>617.0</td>\n",
       "      <td>2.3400</td>\n",
       "      <td>12.259144</td>\n",
       "      <td>1</td>\n",
       "    </tr>\n",
       "    <tr>\n",
       "      <th>9408</th>\n",
       "      <td>-117.45</td>\n",
       "      <td>34.01</td>\n",
       "      <td>26.0</td>\n",
       "      <td>3042.0</td>\n",
       "      <td>598.0</td>\n",
       "      <td>1720.0</td>\n",
       "      <td>551.0</td>\n",
       "      <td>2.7600</td>\n",
       "      <td>11.463746</td>\n",
       "      <td>2</td>\n",
       "    </tr>\n",
       "    <tr>\n",
       "      <th>9409</th>\n",
       "      <td>-117.94</td>\n",
       "      <td>34.03</td>\n",
       "      <td>35.0</td>\n",
       "      <td>1375.0</td>\n",
       "      <td>249.0</td>\n",
       "      <td>1015.0</td>\n",
       "      <td>239.0</td>\n",
       "      <td>4.0521</td>\n",
       "      <td>11.930326</td>\n",
       "      <td>1</td>\n",
       "    </tr>\n",
       "    <tr>\n",
       "      <th>9410</th>\n",
       "      <td>-120.02</td>\n",
       "      <td>36.80</td>\n",
       "      <td>25.0</td>\n",
       "      <td>1270.0</td>\n",
       "      <td>255.0</td>\n",
       "      <td>1050.0</td>\n",
       "      <td>245.0</td>\n",
       "      <td>2.1618</td>\n",
       "      <td>10.920546</td>\n",
       "      <td>2</td>\n",
       "    </tr>\n",
       "  </tbody>\n",
       "</table>\n",
       "<p>9411 rows × 10 columns</p>\n",
       "</div>"
      ],
      "text/plain": [
       "      longitude  latitude  housing_median_age  total_rooms  total_bedrooms  \\\n",
       "0       -120.25     37.93                13.0        493.0            76.0   \n",
       "1       -118.40     34.00                10.0       1526.0           339.0   \n",
       "2       -121.67     38.85                46.0        645.0           131.0   \n",
       "3       -118.14     33.88                24.0       3305.0           982.0   \n",
       "4       -118.11     33.92                34.0       1414.0           263.0   \n",
       "...         ...       ...                 ...          ...             ...   \n",
       "9406    -118.00     34.12                37.0       1340.0           325.0   \n",
       "9407    -118.10     34.10                34.0       2578.0           645.0   \n",
       "9408    -117.45     34.01                26.0       3042.0           598.0   \n",
       "9409    -117.94     34.03                35.0       1375.0           249.0   \n",
       "9410    -120.02     36.80                25.0       1270.0           255.0   \n",
       "\n",
       "      population  households  median_income  median_house_value  \\\n",
       "0          196.0        68.0         3.3750           11.806349   \n",
       "1          705.0       268.0         5.8083           12.681689   \n",
       "2          410.0       122.0         1.7417           11.611874   \n",
       "3         2085.0       881.0         2.6641           12.032915   \n",
       "4          983.0       264.0         4.1767           11.961456   \n",
       "...          ...         ...            ...                 ...   \n",
       "9406       928.0       333.0         3.9219           12.072547   \n",
       "9407      1628.0       617.0         2.3400           12.259144   \n",
       "9408      1720.0       551.0         2.7600           11.463746   \n",
       "9409      1015.0       239.0         4.0521           11.930326   \n",
       "9410      1050.0       245.0         2.1618           10.920546   \n",
       "\n",
       "      ocean_proximity  \n",
       "0                   2  \n",
       "1                   1  \n",
       "2                   2  \n",
       "3                   1  \n",
       "4                   1  \n",
       "...               ...  \n",
       "9406                2  \n",
       "9407                1  \n",
       "9408                2  \n",
       "9409                1  \n",
       "9410                2  \n",
       "\n",
       "[9411 rows x 10 columns]"
      ]
     },
     "execution_count": 82,
     "metadata": {},
     "output_type": "execute_result"
    }
   ],
   "source": [
    "df_train"
   ]
  },
  {
   "cell_type": "code",
   "execution_count": 83,
   "id": "1a82fc09-b46d-4019-bcac-e19f31ff3a96",
   "metadata": {},
   "outputs": [],
   "source": [
    "y_train = df_train.median_house_value.values\n",
    "y_val = df_val.median_house_value.values\n",
    "y_test = df_test.median_house_value.values"
   ]
  },
  {
   "cell_type": "code",
   "execution_count": 84,
   "id": "6d820802-fd9a-4b49-9211-28d0af162394",
   "metadata": {},
   "outputs": [],
   "source": [
    "del df_train['median_house_value']\n",
    "del df_val['median_house_value']\n",
    "del df_test['median_house_value']"
   ]
  },
  {
   "cell_type": "code",
   "execution_count": 90,
   "id": "77d199f1-2b32-45ab-803d-6a356cbb308f",
   "metadata": {},
   "outputs": [],
   "source": [
    "train_dict = df_train.to_dict(orient='records')"
   ]
  },
  {
   "cell_type": "code",
   "execution_count": 91,
   "id": "cb621089-e13a-4dab-b114-737dbe93c860",
   "metadata": {},
   "outputs": [],
   "source": [
    "dv = DictVectorizer(sparse=True)"
   ]
  },
  {
   "cell_type": "code",
   "execution_count": 92,
   "id": "54a0a6a9-c8ff-4293-a399-fe70963d23f1",
   "metadata": {},
   "outputs": [],
   "source": [
    "X_train = dv.fit_transform(train_dict)"
   ]
  },
  {
   "cell_type": "code",
   "execution_count": 93,
   "id": "f1599e43-69dc-4e05-9b2d-7e82e72e2c09",
   "metadata": {},
   "outputs": [
    {
     "data": {
      "text/plain": [
       "<9411x9 sparse matrix of type '<class 'numpy.float64'>'\n",
       "\twith 84699 stored elements in Compressed Sparse Row format>"
      ]
     },
     "execution_count": 93,
     "metadata": {},
     "output_type": "execute_result"
    }
   ],
   "source": [
    "X_train"
   ]
  },
  {
   "cell_type": "code",
   "execution_count": 94,
   "id": "8844ac73-d9b3-45df-a1d2-a8e395c1b9d4",
   "metadata": {},
   "outputs": [
    {
     "data": {
      "text/plain": [
       "<3138x9 sparse matrix of type '<class 'numpy.float64'>'\n",
       "\twith 28242 stored elements in Compressed Sparse Row format>"
      ]
     },
     "execution_count": 94,
     "metadata": {},
     "output_type": "execute_result"
    }
   ],
   "source": [
    "val_dict = df_val.to_dict(orient='records')\n",
    "X_val = dv.transform(val_dict) \n",
    "X_val"
   ]
  },
  {
   "cell_type": "markdown",
   "id": "a8b1c3d0-9299-45eb-8871-d73ae42de3f3",
   "metadata": {},
   "source": [
    "## Question 1"
   ]
  },
  {
   "cell_type": "code",
   "execution_count": 99,
   "id": "f0fb613f-8669-4b75-aeb8-e7ce451b9f6e",
   "metadata": {},
   "outputs": [],
   "source": [
    "from sklearn.tree import DecisionTreeRegressor\n",
    "from sklearn.metrics import roc_auc_score\n",
    "from sklearn.tree import export_text"
   ]
  },
  {
   "cell_type": "code",
   "execution_count": 96,
   "id": "aacfef8b-cf93-4c6b-b636-4036406f4e68",
   "metadata": {},
   "outputs": [
    {
     "data": {
      "text/html": [
       "<div>\n",
       "<style scoped>\n",
       "    .dataframe tbody tr th:only-of-type {\n",
       "        vertical-align: middle;\n",
       "    }\n",
       "\n",
       "    .dataframe tbody tr th {\n",
       "        vertical-align: top;\n",
       "    }\n",
       "\n",
       "    .dataframe thead th {\n",
       "        text-align: right;\n",
       "    }\n",
       "</style>\n",
       "<table border=\"1\" class=\"dataframe\">\n",
       "  <thead>\n",
       "    <tr style=\"text-align: right;\">\n",
       "      <th></th>\n",
       "      <th>longitude</th>\n",
       "      <th>latitude</th>\n",
       "      <th>housing_median_age</th>\n",
       "      <th>total_rooms</th>\n",
       "      <th>total_bedrooms</th>\n",
       "      <th>population</th>\n",
       "      <th>households</th>\n",
       "      <th>median_income</th>\n",
       "      <th>median_house_value</th>\n",
       "      <th>ocean_proximity</th>\n",
       "    </tr>\n",
       "  </thead>\n",
       "  <tbody>\n",
       "    <tr>\n",
       "      <th>0</th>\n",
       "      <td>-121.97</td>\n",
       "      <td>37.64</td>\n",
       "      <td>32.0</td>\n",
       "      <td>1283.0</td>\n",
       "      <td>194.0</td>\n",
       "      <td>485.0</td>\n",
       "      <td>171.0</td>\n",
       "      <td>6.0574</td>\n",
       "      <td>12.973866</td>\n",
       "      <td>1</td>\n",
       "    </tr>\n",
       "    <tr>\n",
       "      <th>1</th>\n",
       "      <td>-121.99</td>\n",
       "      <td>37.61</td>\n",
       "      <td>9.0</td>\n",
       "      <td>3666.0</td>\n",
       "      <td>711.0</td>\n",
       "      <td>2341.0</td>\n",
       "      <td>703.0</td>\n",
       "      <td>4.6458</td>\n",
       "      <td>12.287657</td>\n",
       "      <td>1</td>\n",
       "    </tr>\n",
       "    <tr>\n",
       "      <th>2</th>\n",
       "      <td>-121.97</td>\n",
       "      <td>37.57</td>\n",
       "      <td>21.0</td>\n",
       "      <td>4342.0</td>\n",
       "      <td>783.0</td>\n",
       "      <td>2172.0</td>\n",
       "      <td>789.0</td>\n",
       "      <td>4.6146</td>\n",
       "      <td>12.419574</td>\n",
       "      <td>1</td>\n",
       "    </tr>\n",
       "    <tr>\n",
       "      <th>3</th>\n",
       "      <td>-121.96</td>\n",
       "      <td>37.58</td>\n",
       "      <td>15.0</td>\n",
       "      <td>3575.0</td>\n",
       "      <td>597.0</td>\n",
       "      <td>1777.0</td>\n",
       "      <td>559.0</td>\n",
       "      <td>5.7192</td>\n",
       "      <td>12.554971</td>\n",
       "      <td>1</td>\n",
       "    </tr>\n",
       "    <tr>\n",
       "      <th>4</th>\n",
       "      <td>-121.98</td>\n",
       "      <td>37.58</td>\n",
       "      <td>20.0</td>\n",
       "      <td>4126.0</td>\n",
       "      <td>1031.0</td>\n",
       "      <td>2079.0</td>\n",
       "      <td>975.0</td>\n",
       "      <td>3.6832</td>\n",
       "      <td>12.287196</td>\n",
       "      <td>1</td>\n",
       "    </tr>\n",
       "  </tbody>\n",
       "</table>\n",
       "</div>"
      ],
      "text/plain": [
       "   longitude  latitude  housing_median_age  total_rooms  total_bedrooms  \\\n",
       "0    -121.97     37.64                32.0       1283.0           194.0   \n",
       "1    -121.99     37.61                 9.0       3666.0           711.0   \n",
       "2    -121.97     37.57                21.0       4342.0           783.0   \n",
       "3    -121.96     37.58                15.0       3575.0           597.0   \n",
       "4    -121.98     37.58                20.0       4126.0          1031.0   \n",
       "\n",
       "   population  households  median_income  median_house_value  ocean_proximity  \n",
       "0       485.0       171.0         6.0574           12.973866                1  \n",
       "1      2341.0       703.0         4.6458           12.287657                1  \n",
       "2      2172.0       789.0         4.6146           12.419574                1  \n",
       "3      1777.0       559.0         5.7192           12.554971                1  \n",
       "4      2079.0       975.0         3.6832           12.287196                1  "
      ]
     },
     "execution_count": 96,
     "metadata": {},
     "output_type": "execute_result"
    }
   ],
   "source": [
    "df.head()"
   ]
  },
  {
   "cell_type": "code",
   "execution_count": 100,
   "id": "a1953903-6654-44d0-b723-1a3e68c1c256",
   "metadata": {},
   "outputs": [
    {
     "data": {
      "text/html": [
       "<style>#sk-container-id-1 {color: black;background-color: white;}#sk-container-id-1 pre{padding: 0;}#sk-container-id-1 div.sk-toggleable {background-color: white;}#sk-container-id-1 label.sk-toggleable__label {cursor: pointer;display: block;width: 100%;margin-bottom: 0;padding: 0.3em;box-sizing: border-box;text-align: center;}#sk-container-id-1 label.sk-toggleable__label-arrow:before {content: \"▸\";float: left;margin-right: 0.25em;color: #696969;}#sk-container-id-1 label.sk-toggleable__label-arrow:hover:before {color: black;}#sk-container-id-1 div.sk-estimator:hover label.sk-toggleable__label-arrow:before {color: black;}#sk-container-id-1 div.sk-toggleable__content {max-height: 0;max-width: 0;overflow: hidden;text-align: left;background-color: #f0f8ff;}#sk-container-id-1 div.sk-toggleable__content pre {margin: 0.2em;color: black;border-radius: 0.25em;background-color: #f0f8ff;}#sk-container-id-1 input.sk-toggleable__control:checked~div.sk-toggleable__content {max-height: 200px;max-width: 100%;overflow: auto;}#sk-container-id-1 input.sk-toggleable__control:checked~label.sk-toggleable__label-arrow:before {content: \"▾\";}#sk-container-id-1 div.sk-estimator input.sk-toggleable__control:checked~label.sk-toggleable__label {background-color: #d4ebff;}#sk-container-id-1 div.sk-label input.sk-toggleable__control:checked~label.sk-toggleable__label {background-color: #d4ebff;}#sk-container-id-1 input.sk-hidden--visually {border: 0;clip: rect(1px 1px 1px 1px);clip: rect(1px, 1px, 1px, 1px);height: 1px;margin: -1px;overflow: hidden;padding: 0;position: absolute;width: 1px;}#sk-container-id-1 div.sk-estimator {font-family: monospace;background-color: #f0f8ff;border: 1px dotted black;border-radius: 0.25em;box-sizing: border-box;margin-bottom: 0.5em;}#sk-container-id-1 div.sk-estimator:hover {background-color: #d4ebff;}#sk-container-id-1 div.sk-parallel-item::after {content: \"\";width: 100%;border-bottom: 1px solid gray;flex-grow: 1;}#sk-container-id-1 div.sk-label:hover label.sk-toggleable__label {background-color: #d4ebff;}#sk-container-id-1 div.sk-serial::before {content: \"\";position: absolute;border-left: 1px solid gray;box-sizing: border-box;top: 0;bottom: 0;left: 50%;z-index: 0;}#sk-container-id-1 div.sk-serial {display: flex;flex-direction: column;align-items: center;background-color: white;padding-right: 0.2em;padding-left: 0.2em;position: relative;}#sk-container-id-1 div.sk-item {position: relative;z-index: 1;}#sk-container-id-1 div.sk-parallel {display: flex;align-items: stretch;justify-content: center;background-color: white;position: relative;}#sk-container-id-1 div.sk-item::before, #sk-container-id-1 div.sk-parallel-item::before {content: \"\";position: absolute;border-left: 1px solid gray;box-sizing: border-box;top: 0;bottom: 0;left: 50%;z-index: -1;}#sk-container-id-1 div.sk-parallel-item {display: flex;flex-direction: column;z-index: 1;position: relative;background-color: white;}#sk-container-id-1 div.sk-parallel-item:first-child::after {align-self: flex-end;width: 50%;}#sk-container-id-1 div.sk-parallel-item:last-child::after {align-self: flex-start;width: 50%;}#sk-container-id-1 div.sk-parallel-item:only-child::after {width: 0;}#sk-container-id-1 div.sk-dashed-wrapped {border: 1px dashed gray;margin: 0 0.4em 0.5em 0.4em;box-sizing: border-box;padding-bottom: 0.4em;background-color: white;}#sk-container-id-1 div.sk-label label {font-family: monospace;font-weight: bold;display: inline-block;line-height: 1.2em;}#sk-container-id-1 div.sk-label-container {text-align: center;}#sk-container-id-1 div.sk-container {/* jupyter's `normalize.less` sets `[hidden] { display: none; }` but bootstrap.min.css set `[hidden] { display: none !important; }` so we also need the `!important` here to be able to override the default hidden behavior on the sphinx rendered scikit-learn.org. See: https://github.com/scikit-learn/scikit-learn/issues/21755 */display: inline-block !important;position: relative;}#sk-container-id-1 div.sk-text-repr-fallback {display: none;}</style><div id=\"sk-container-id-1\" class=\"sk-top-container\"><div class=\"sk-text-repr-fallback\"><pre>DecisionTreeRegressor(max_depth=1)</pre><b>In a Jupyter environment, please rerun this cell to show the HTML representation or trust the notebook. <br />On GitHub, the HTML representation is unable to render, please try loading this page with nbviewer.org.</b></div><div class=\"sk-container\" hidden><div class=\"sk-item\"><div class=\"sk-estimator sk-toggleable\"><input class=\"sk-toggleable__control sk-hidden--visually\" id=\"sk-estimator-id-1\" type=\"checkbox\" checked><label for=\"sk-estimator-id-1\" class=\"sk-toggleable__label sk-toggleable__label-arrow\">DecisionTreeRegressor</label><div class=\"sk-toggleable__content\"><pre>DecisionTreeRegressor(max_depth=1)</pre></div></div></div></div></div>"
      ],
      "text/plain": [
       "DecisionTreeRegressor(max_depth=1)"
      ]
     },
     "execution_count": 100,
     "metadata": {},
     "output_type": "execute_result"
    }
   ],
   "source": [
    "dt = DecisionTreeRegressor(max_depth=1)\n",
    "dt.fit(X_train, y_train)"
   ]
  },
  {
   "cell_type": "code",
   "execution_count": 101,
   "id": "fc885baf-841e-417d-8530-738ad2ff73c0",
   "metadata": {},
   "outputs": [
    {
     "name": "stdout",
     "output_type": "stream",
     "text": [
      "|--- ocean_proximity <= 1.50\n",
      "|   |--- value: [12.30]\n",
      "|--- ocean_proximity >  1.50\n",
      "|   |--- value: [11.61]\n",
      "\n"
     ]
    }
   ],
   "source": [
    "print(export_text(dt, feature_names=list(dv.get_feature_names_out())))"
   ]
  },
  {
   "cell_type": "code",
   "execution_count": null,
   "id": "9d623738-199a-4bac-9077-b169e24f21c5",
   "metadata": {},
   "outputs": [],
   "source": [
    "# The algorithm is using ocean_proximity to predict a value"
   ]
  },
  {
   "cell_type": "markdown",
   "id": "268be09a-0c51-4696-8345-7fb3ec6c8e2a",
   "metadata": {},
   "source": [
    "## Question 2"
   ]
  },
  {
   "cell_type": "code",
   "execution_count": 102,
   "id": "1c2688bc-d633-4b64-9dca-3f180b7fcd73",
   "metadata": {},
   "outputs": [],
   "source": [
    "from sklearn.ensemble import RandomForestRegressor"
   ]
  },
  {
   "cell_type": "code",
   "execution_count": 105,
   "id": "279ae0d9-ee77-40f1-ab1c-462143ed888c",
   "metadata": {},
   "outputs": [
    {
     "data": {
      "text/html": [
       "<style>#sk-container-id-2 {color: black;background-color: white;}#sk-container-id-2 pre{padding: 0;}#sk-container-id-2 div.sk-toggleable {background-color: white;}#sk-container-id-2 label.sk-toggleable__label {cursor: pointer;display: block;width: 100%;margin-bottom: 0;padding: 0.3em;box-sizing: border-box;text-align: center;}#sk-container-id-2 label.sk-toggleable__label-arrow:before {content: \"▸\";float: left;margin-right: 0.25em;color: #696969;}#sk-container-id-2 label.sk-toggleable__label-arrow:hover:before {color: black;}#sk-container-id-2 div.sk-estimator:hover label.sk-toggleable__label-arrow:before {color: black;}#sk-container-id-2 div.sk-toggleable__content {max-height: 0;max-width: 0;overflow: hidden;text-align: left;background-color: #f0f8ff;}#sk-container-id-2 div.sk-toggleable__content pre {margin: 0.2em;color: black;border-radius: 0.25em;background-color: #f0f8ff;}#sk-container-id-2 input.sk-toggleable__control:checked~div.sk-toggleable__content {max-height: 200px;max-width: 100%;overflow: auto;}#sk-container-id-2 input.sk-toggleable__control:checked~label.sk-toggleable__label-arrow:before {content: \"▾\";}#sk-container-id-2 div.sk-estimator input.sk-toggleable__control:checked~label.sk-toggleable__label {background-color: #d4ebff;}#sk-container-id-2 div.sk-label input.sk-toggleable__control:checked~label.sk-toggleable__label {background-color: #d4ebff;}#sk-container-id-2 input.sk-hidden--visually {border: 0;clip: rect(1px 1px 1px 1px);clip: rect(1px, 1px, 1px, 1px);height: 1px;margin: -1px;overflow: hidden;padding: 0;position: absolute;width: 1px;}#sk-container-id-2 div.sk-estimator {font-family: monospace;background-color: #f0f8ff;border: 1px dotted black;border-radius: 0.25em;box-sizing: border-box;margin-bottom: 0.5em;}#sk-container-id-2 div.sk-estimator:hover {background-color: #d4ebff;}#sk-container-id-2 div.sk-parallel-item::after {content: \"\";width: 100%;border-bottom: 1px solid gray;flex-grow: 1;}#sk-container-id-2 div.sk-label:hover label.sk-toggleable__label {background-color: #d4ebff;}#sk-container-id-2 div.sk-serial::before {content: \"\";position: absolute;border-left: 1px solid gray;box-sizing: border-box;top: 0;bottom: 0;left: 50%;z-index: 0;}#sk-container-id-2 div.sk-serial {display: flex;flex-direction: column;align-items: center;background-color: white;padding-right: 0.2em;padding-left: 0.2em;position: relative;}#sk-container-id-2 div.sk-item {position: relative;z-index: 1;}#sk-container-id-2 div.sk-parallel {display: flex;align-items: stretch;justify-content: center;background-color: white;position: relative;}#sk-container-id-2 div.sk-item::before, #sk-container-id-2 div.sk-parallel-item::before {content: \"\";position: absolute;border-left: 1px solid gray;box-sizing: border-box;top: 0;bottom: 0;left: 50%;z-index: -1;}#sk-container-id-2 div.sk-parallel-item {display: flex;flex-direction: column;z-index: 1;position: relative;background-color: white;}#sk-container-id-2 div.sk-parallel-item:first-child::after {align-self: flex-end;width: 50%;}#sk-container-id-2 div.sk-parallel-item:last-child::after {align-self: flex-start;width: 50%;}#sk-container-id-2 div.sk-parallel-item:only-child::after {width: 0;}#sk-container-id-2 div.sk-dashed-wrapped {border: 1px dashed gray;margin: 0 0.4em 0.5em 0.4em;box-sizing: border-box;padding-bottom: 0.4em;background-color: white;}#sk-container-id-2 div.sk-label label {font-family: monospace;font-weight: bold;display: inline-block;line-height: 1.2em;}#sk-container-id-2 div.sk-label-container {text-align: center;}#sk-container-id-2 div.sk-container {/* jupyter's `normalize.less` sets `[hidden] { display: none; }` but bootstrap.min.css set `[hidden] { display: none !important; }` so we also need the `!important` here to be able to override the default hidden behavior on the sphinx rendered scikit-learn.org. See: https://github.com/scikit-learn/scikit-learn/issues/21755 */display: inline-block !important;position: relative;}#sk-container-id-2 div.sk-text-repr-fallback {display: none;}</style><div id=\"sk-container-id-2\" class=\"sk-top-container\"><div class=\"sk-text-repr-fallback\"><pre>RandomForestRegressor(n_estimators=10, n_jobs=-1, random_state=1)</pre><b>In a Jupyter environment, please rerun this cell to show the HTML representation or trust the notebook. <br />On GitHub, the HTML representation is unable to render, please try loading this page with nbviewer.org.</b></div><div class=\"sk-container\" hidden><div class=\"sk-item\"><div class=\"sk-estimator sk-toggleable\"><input class=\"sk-toggleable__control sk-hidden--visually\" id=\"sk-estimator-id-2\" type=\"checkbox\" checked><label for=\"sk-estimator-id-2\" class=\"sk-toggleable__label sk-toggleable__label-arrow\">RandomForestRegressor</label><div class=\"sk-toggleable__content\"><pre>RandomForestRegressor(n_estimators=10, n_jobs=-1, random_state=1)</pre></div></div></div></div></div>"
      ],
      "text/plain": [
       "RandomForestRegressor(n_estimators=10, n_jobs=-1, random_state=1)"
      ]
     },
     "execution_count": 105,
     "metadata": {},
     "output_type": "execute_result"
    }
   ],
   "source": [
    "rf = RandomForestRegressor(n_estimators=10, random_state=1, n_jobs=-1)\n",
    "rf.fit(X_train, y_train)"
   ]
  },
  {
   "cell_type": "code",
   "execution_count": 106,
   "id": "0fbc43dd-90e4-485c-a48d-421b1429ba78",
   "metadata": {},
   "outputs": [],
   "source": [
    "y_pred = rf.predict(X_val)"
   ]
  },
  {
   "cell_type": "code",
   "execution_count": 107,
   "id": "80a758e6-0266-4a7f-aedf-0dab48f56f07",
   "metadata": {},
   "outputs": [
    {
     "data": {
      "text/plain": [
       "0.2448408916016333"
      ]
     },
     "execution_count": 107,
     "metadata": {},
     "output_type": "execute_result"
    }
   ],
   "source": [
    "rmse = np.sqrt(np.mean((y_pred-y_val)**2))\n",
    "rmse"
   ]
  },
  {
   "cell_type": "code",
   "execution_count": 108,
   "id": "9f91154b-a289-44da-9448-a89758a0e1b5",
   "metadata": {},
   "outputs": [],
   "source": [
    "# 0.245 is the right answer"
   ]
  },
  {
   "cell_type": "markdown",
   "id": "01d6b190-e727-4b8a-840f-241cde521d42",
   "metadata": {},
   "source": [
    "## Question 3"
   ]
  },
  {
   "cell_type": "code",
   "execution_count": 111,
   "id": "114360b0-641f-44b1-b5f8-a7e35b988d7e",
   "metadata": {},
   "outputs": [],
   "source": [
    "estimators = [i for i in range(10,201,10)]\n",
    "scores = []"
   ]
  },
  {
   "cell_type": "code",
   "execution_count": 112,
   "id": "8f9c3177-9017-4315-86ae-a262aa5514d4",
   "metadata": {},
   "outputs": [],
   "source": [
    "for n_estimator in estimators:\n",
    "    rf = RandomForestRegressor(n_estimators = n_estimator, random_state=1, n_jobs=-1)\n",
    "    rf.fit(X_train, y_train)\n",
    "    y_pred = rf.predict(X_val)\n",
    "    scores.append(np.sqrt(np.mean((y_pred-y_val)**2)))"
   ]
  },
  {
   "cell_type": "code",
   "execution_count": 114,
   "id": "d596d17a-74ec-45d9-9041-4187cc446380",
   "metadata": {},
   "outputs": [
    {
     "data": {
      "image/png": "[encoded data removed]",
      "text/plain": [
       "<Figure size 640x480 with 1 Axes>"
      ]
     },
     "metadata": {},
     "output_type": "display_data"
    }
   ],
   "source": [
    "plt.plot(estimators, scores)\n",
    "plt.xlabel('Number of Trees')\n",
    "plt.ylabel('RMSE')\n",
    "plt.grid(True)  # Optionally, add grid lines\n",
    "plt.show()"
   ]
  },
  {
   "cell_type": "code",
   "execution_count": 116,
   "id": "4041a9d4-1e39-4a09-89ef-8ea90144abc5",
   "metadata": {},
   "outputs": [
    {
     "name": "stdout",
     "output_type": "stream",
     "text": [
      "10 0.24484089160163333\n",
      "20 0.238608614352844\n",
      "30 0.23671599020405681\n",
      "40 0.23493841728504405\n",
      "50 0.23464059271059653\n",
      "60 0.23439705754206477\n",
      "70 0.23430578681339265\n",
      "80 0.23450755287258576\n",
      "90 0.23451777414385494\n",
      "100 0.23442355918150357\n",
      "110 0.2342515386655278\n",
      "120 0.23407749605041003\n",
      "130 0.23398220014350332\n",
      "140 0.23369996444367627\n",
      "150 0.23361519861101862\n",
      "160 0.23350711203635277\n",
      "170 0.23344224532783997\n",
      "180 0.23362384689119836\n",
      "190 0.23391225180265243\n",
      "200 0.2337886085564768\n"
     ]
    }
   ],
   "source": [
    "for estimator, score in zip(estimators, scores):\n",
    "    print(estimator, score)"
   ]
  },
  {
   "cell_type": "code",
   "execution_count": 117,
   "id": "0633028a-6054-4e76-833b-08b7a3d6d217",
   "metadata": {},
   "outputs": [],
   "source": [
    "# it seems that after 130 estimators the score stops improving - 160 given the availabe answers"
   ]
  },
  {
   "cell_type": "markdown",
   "id": "c91fc825-9c06-4c2a-a4ef-9274cb9a26ac",
   "metadata": {},
   "source": [
    "## Question 4"
   ]
  },
  {
   "cell_type": "code",
   "execution_count": 118,
   "id": "0885694c-9b3d-4f2f-82f2-f9ab547a184e",
   "metadata": {},
   "outputs": [],
   "source": [
    "scores = []\n",
    "\n",
    "for depth in [10, 15, 20, 25]:\n",
    "    for estimator in range(10, 201, 10):\n",
    "        rf = RandomForestRegressor(n_estimators = estimator,\n",
    "                                    max_depth = depth,\n",
    "                                    n_jobs=-1,\n",
    "                                    random_state=1)\n",
    "        rf.fit(X_train, y_train)\n",
    "\n",
    "        y_pred = rf.predict(X_val)\n",
    "        rmse = np.sqrt(np.mean((y_pred-y_val)**2))\n",
    "\n",
    "        scores.append((depth, estimator, rmse))"
   ]
  },
  {
   "cell_type": "code",
   "execution_count": 120,
   "id": "4c1044a9-0c25-4473-b3a5-26827ef02aac",
   "metadata": {},
   "outputs": [],
   "source": [
    "columns = ['max_depth', 'n_estimators', 'rmse']\n",
    "df_scores = pd.DataFrame(scores, columns=columns)"
   ]
  },
  {
   "cell_type": "code",
   "execution_count": 122,
   "id": "4a80958a-e12c-4d2d-a346-1c6126d2d275",
   "metadata": {},
   "outputs": [
    {
     "data": {
      "text/html": [
       "<div>\n",
       "<style scoped>\n",
       "    .dataframe tbody tr th:only-of-type {\n",
       "        vertical-align: middle;\n",
       "    }\n",
       "\n",
       "    .dataframe tbody tr th {\n",
       "        vertical-align: top;\n",
       "    }\n",
       "\n",
       "    .dataframe thead th {\n",
       "        text-align: right;\n",
       "    }\n",
       "</style>\n",
       "<table border=\"1\" class=\"dataframe\">\n",
       "  <thead>\n",
       "    <tr style=\"text-align: right;\">\n",
       "      <th></th>\n",
       "      <th>max_depth</th>\n",
       "      <th>rmse</th>\n",
       "    </tr>\n",
       "  </thead>\n",
       "  <tbody>\n",
       "    <tr>\n",
       "      <th>3</th>\n",
       "      <td>25</td>\n",
       "      <td>0.235000</td>\n",
       "    </tr>\n",
       "    <tr>\n",
       "      <th>2</th>\n",
       "      <td>20</td>\n",
       "      <td>0.235081</td>\n",
       "    </tr>\n",
       "    <tr>\n",
       "      <th>1</th>\n",
       "      <td>15</td>\n",
       "      <td>0.236106</td>\n",
       "    </tr>\n",
       "    <tr>\n",
       "      <th>0</th>\n",
       "      <td>10</td>\n",
       "      <td>0.245538</td>\n",
       "    </tr>\n",
       "  </tbody>\n",
       "</table>\n",
       "</div>"
      ],
      "text/plain": [
       "   max_depth      rmse\n",
       "3         25  0.235000\n",
       "2         20  0.235081\n",
       "1         15  0.236106\n",
       "0         10  0.245538"
      ]
     },
     "execution_count": 122,
     "metadata": {},
     "output_type": "execute_result"
    }
   ],
   "source": [
    "new_df = df_scores.groupby('max_depth').agg({'rmse':'mean'}).reset_index()\n",
    "new_df.sort_values(by='rmse')"
   ]
  },
  {
   "cell_type": "code",
   "execution_count": null,
   "id": "cf5fe6b2-b2e3-4463-b267-f239df30916c",
   "metadata": {},
   "outputs": [],
   "source": [
    "# so we see that for max_depth=25 we have the lowest rmse"
   ]
  },
  {
   "cell_type": "markdown",
   "id": "5202a9a8-43d4-495e-bfd2-03a6728070f0",
   "metadata": {},
   "source": [
    "## Question 5"
   ]
  },
  {
   "cell_type": "code",
   "execution_count": 123,
   "id": "990a5db4-bd44-440a-8297-413ff21ddd88",
   "metadata": {},
   "outputs": [
    {
     "data": {
      "text/html": [
       "<style>#sk-container-id-3 {color: black;background-color: white;}#sk-container-id-3 pre{padding: 0;}#sk-container-id-3 div.sk-toggleable {background-color: white;}#sk-container-id-3 label.sk-toggleable__label {cursor: pointer;display: block;width: 100%;margin-bottom: 0;padding: 0.3em;box-sizing: border-box;text-align: center;}#sk-container-id-3 label.sk-toggleable__label-arrow:before {content: \"▸\";float: left;margin-right: 0.25em;color: #696969;}#sk-container-id-3 label.sk-toggleable__label-arrow:hover:before {color: black;}#sk-container-id-3 div.sk-estimator:hover label.sk-toggleable__label-arrow:before {color: black;}#sk-container-id-3 div.sk-toggleable__content {max-height: 0;max-width: 0;overflow: hidden;text-align: left;background-color: #f0f8ff;}#sk-container-id-3 div.sk-toggleable__content pre {margin: 0.2em;color: black;border-radius: 0.25em;background-color: #f0f8ff;}#sk-container-id-3 input.sk-toggleable__control:checked~div.sk-toggleable__content {max-height: 200px;max-width: 100%;overflow: auto;}#sk-container-id-3 input.sk-toggleable__control:checked~label.sk-toggleable__label-arrow:before {content: \"▾\";}#sk-container-id-3 div.sk-estimator input.sk-toggleable__control:checked~label.sk-toggleable__label {background-color: #d4ebff;}#sk-container-id-3 div.sk-label input.sk-toggleable__control:checked~label.sk-toggleable__label {background-color: #d4ebff;}#sk-container-id-3 input.sk-hidden--visually {border: 0;clip: rect(1px 1px 1px 1px);clip: rect(1px, 1px, 1px, 1px);height: 1px;margin: -1px;overflow: hidden;padding: 0;position: absolute;width: 1px;}#sk-container-id-3 div.sk-estimator {font-family: monospace;background-color: #f0f8ff;border: 1px dotted black;border-radius: 0.25em;box-sizing: border-box;margin-bottom: 0.5em;}#sk-container-id-3 div.sk-estimator:hover {background-color: #d4ebff;}#sk-container-id-3 div.sk-parallel-item::after {content: \"\";width: 100%;border-bottom: 1px solid gray;flex-grow: 1;}#sk-container-id-3 div.sk-label:hover label.sk-toggleable__label {background-color: #d4ebff;}#sk-container-id-3 div.sk-serial::before {content: \"\";position: absolute;border-left: 1px solid gray;box-sizing: border-box;top: 0;bottom: 0;left: 50%;z-index: 0;}#sk-container-id-3 div.sk-serial {display: flex;flex-direction: column;align-items: center;background-color: white;padding-right: 0.2em;padding-left: 0.2em;position: relative;}#sk-container-id-3 div.sk-item {position: relative;z-index: 1;}#sk-container-id-3 div.sk-parallel {display: flex;align-items: stretch;justify-content: center;background-color: white;position: relative;}#sk-container-id-3 div.sk-item::before, #sk-container-id-3 div.sk-parallel-item::before {content: \"\";position: absolute;border-left: 1px solid gray;box-sizing: border-box;top: 0;bottom: 0;left: 50%;z-index: -1;}#sk-container-id-3 div.sk-parallel-item {display: flex;flex-direction: column;z-index: 1;position: relative;background-color: white;}#sk-container-id-3 div.sk-parallel-item:first-child::after {align-self: flex-end;width: 50%;}#sk-container-id-3 div.sk-parallel-item:last-child::after {align-self: flex-start;width: 50%;}#sk-container-id-3 div.sk-parallel-item:only-child::after {width: 0;}#sk-container-id-3 div.sk-dashed-wrapped {border: 1px dashed gray;margin: 0 0.4em 0.5em 0.4em;box-sizing: border-box;padding-bottom: 0.4em;background-color: white;}#sk-container-id-3 div.sk-label label {font-family: monospace;font-weight: bold;display: inline-block;line-height: 1.2em;}#sk-container-id-3 div.sk-label-container {text-align: center;}#sk-container-id-3 div.sk-container {/* jupyter's `normalize.less` sets `[hidden] { display: none; }` but bootstrap.min.css set `[hidden] { display: none !important; }` so we also need the `!important` here to be able to override the default hidden behavior on the sphinx rendered scikit-learn.org. See: https://github.com/scikit-learn/scikit-learn/issues/21755 */display: inline-block !important;position: relative;}#sk-container-id-3 div.sk-text-repr-fallback {display: none;}</style><div id=\"sk-container-id-3\" class=\"sk-top-container\"><div class=\"sk-text-repr-fallback\"><pre>RandomForestRegressor(max_depth=20, n_estimators=10, n_jobs=-1, random_state=1)</pre><b>In a Jupyter environment, please rerun this cell to show the HTML representation or trust the notebook. <br />On GitHub, the HTML representation is unable to render, please try loading this page with nbviewer.org.</b></div><div class=\"sk-container\" hidden><div class=\"sk-item\"><div class=\"sk-estimator sk-toggleable\"><input class=\"sk-toggleable__control sk-hidden--visually\" id=\"sk-estimator-id-3\" type=\"checkbox\" checked><label for=\"sk-estimator-id-3\" class=\"sk-toggleable__label sk-toggleable__label-arrow\">RandomForestRegressor</label><div class=\"sk-toggleable__content\"><pre>RandomForestRegressor(max_depth=20, n_estimators=10, n_jobs=-1, random_state=1)</pre></div></div></div></div></div>"
      ],
      "text/plain": [
       "RandomForestRegressor(max_depth=20, n_estimators=10, n_jobs=-1, random_state=1)"
      ]
     },
     "execution_count": 123,
     "metadata": {},
     "output_type": "execute_result"
    }
   ],
   "source": [
    "rf = RandomForestRegressor(n_estimators = 10, max_depth = 20, random_state=1, n_jobs=-1)\n",
    "rf.fit(X_train, y_train)"
   ]
  },
  {
   "cell_type": "code",
   "execution_count": 124,
   "id": "023bb313-f9b0-445d-9823-13b792ef2453",
   "metadata": {},
   "outputs": [
    {
     "data": {
      "text/plain": [
       "array([0.01503953, 0.03024308, 0.10213374, 0.08645309, 0.33535948,\n",
       "       0.36627941, 0.0280344 , 0.01544722, 0.02101004])"
      ]
     },
     "execution_count": 124,
     "metadata": {},
     "output_type": "execute_result"
    }
   ],
   "source": [
    "rf.feature_importances_"
   ]
  },
  {
   "cell_type": "code",
   "execution_count": 125,
   "id": "a260f61d-68fc-40c6-b394-37e5416d2ed3",
   "metadata": {},
   "outputs": [
    {
     "data": {
      "text/plain": [
       "array(['households', 'housing_median_age', 'latitude', 'longitude',\n",
       "       'median_income', 'ocean_proximity', 'population', 'total_bedrooms',\n",
       "       'total_rooms'], dtype=object)"
      ]
     },
     "execution_count": 125,
     "metadata": {},
     "output_type": "execute_result"
    }
   ],
   "source": [
    "dv.get_feature_names_out()"
   ]
  },
  {
   "cell_type": "code",
   "execution_count": 127,
   "id": "379bef66-6826-444c-8340-59c586a34325",
   "metadata": {},
   "outputs": [
    {
     "data": {
      "text/html": [
       "<div>\n",
       "<style scoped>\n",
       "    .dataframe tbody tr th:only-of-type {\n",
       "        vertical-align: middle;\n",
       "    }\n",
       "\n",
       "    .dataframe tbody tr th {\n",
       "        vertical-align: top;\n",
       "    }\n",
       "\n",
       "    .dataframe thead th {\n",
       "        text-align: right;\n",
       "    }\n",
       "</style>\n",
       "<table border=\"1\" class=\"dataframe\">\n",
       "  <thead>\n",
       "    <tr style=\"text-align: right;\">\n",
       "      <th></th>\n",
       "      <th>feature</th>\n",
       "      <th>importance</th>\n",
       "    </tr>\n",
       "  </thead>\n",
       "  <tbody>\n",
       "    <tr>\n",
       "      <th>5</th>\n",
       "      <td>ocean_proximity</td>\n",
       "      <td>0.366279</td>\n",
       "    </tr>\n",
       "    <tr>\n",
       "      <th>4</th>\n",
       "      <td>median_income</td>\n",
       "      <td>0.335359</td>\n",
       "    </tr>\n",
       "    <tr>\n",
       "      <th>2</th>\n",
       "      <td>latitude</td>\n",
       "      <td>0.102134</td>\n",
       "    </tr>\n",
       "    <tr>\n",
       "      <th>3</th>\n",
       "      <td>longitude</td>\n",
       "      <td>0.086453</td>\n",
       "    </tr>\n",
       "    <tr>\n",
       "      <th>1</th>\n",
       "      <td>housing_median_age</td>\n",
       "      <td>0.030243</td>\n",
       "    </tr>\n",
       "    <tr>\n",
       "      <th>6</th>\n",
       "      <td>population</td>\n",
       "      <td>0.028034</td>\n",
       "    </tr>\n",
       "    <tr>\n",
       "      <th>8</th>\n",
       "      <td>total_rooms</td>\n",
       "      <td>0.021010</td>\n",
       "    </tr>\n",
       "    <tr>\n",
       "      <th>7</th>\n",
       "      <td>total_bedrooms</td>\n",
       "      <td>0.015447</td>\n",
       "    </tr>\n",
       "    <tr>\n",
       "      <th>0</th>\n",
       "      <td>households</td>\n",
       "      <td>0.015040</td>\n",
       "    </tr>\n",
       "  </tbody>\n",
       "</table>\n",
       "</div>"
      ],
      "text/plain": [
       "              feature  importance\n",
       "5     ocean_proximity    0.366279\n",
       "4       median_income    0.335359\n",
       "2            latitude    0.102134\n",
       "3           longitude    0.086453\n",
       "1  housing_median_age    0.030243\n",
       "6          population    0.028034\n",
       "8         total_rooms    0.021010\n",
       "7      total_bedrooms    0.015447\n",
       "0          households    0.015040"
      ]
     },
     "execution_count": 127,
     "metadata": {},
     "output_type": "execute_result"
    }
   ],
   "source": [
    "feature_importances = pd.DataFrame({'feature':dv.get_feature_names_out(), 'importance':rf.feature_importances_})\n",
    "feature_importances.sort_values(by='importance', ascending=[False])"
   ]
  },
  {
   "cell_type": "code",
   "execution_count": 128,
   "id": "a68fbd2f-29b3-4472-ae85-7e87983b8fd5",
   "metadata": {},
   "outputs": [],
   "source": [
    "# Median income is the answer to question 5"
   ]
  },
  {
   "cell_type": "markdown",
   "id": "af2a71e7-d817-4094-a072-fd7aadf3940e",
   "metadata": {},
   "source": [
    "## Question 6"
   ]
  },
  {
   "cell_type": "code",
   "execution_count": 129,
   "id": "6e764003-71ff-4f93-bb1e-cca6df21ef23",
   "metadata": {},
   "outputs": [],
   "source": [
    "import xgboost as xgb"
   ]
  },
  {
   "cell_type": "code",
   "execution_count": 130,
   "id": "621f5d23-f26c-45d7-b56b-398386f5457e",
   "metadata": {},
   "outputs": [],
   "source": [
    "eta = [0.1, 0.3]\n",
    "scores = []"
   ]
  },
  {
   "cell_type": "code",
   "execution_count": 132,
   "id": "825cdbd3-a94c-4286-b77f-920882d5c345",
   "metadata": {},
   "outputs": [],
   "source": [
    "features = dv.get_feature_names_out()\n",
    "dtrain = xgb.DMatrix(X_train, label=y_train, feature_names = features)\n",
    "dval = xgb.DMatrix(X_val, label=y_val, feature_names = features)"
   ]
  },
  {
   "cell_type": "code",
   "execution_count": 133,
   "id": "7ad46acb-c512-41f6-91db-b8b3a5d471eb",
   "metadata": {},
   "outputs": [],
   "source": [
    "watchlist = [(dtrain, 'train'), (dval, 'val')]"
   ]
  },
  {
   "cell_type": "code",
   "execution_count": 135,
   "id": "2f1b3363-8c53-400c-8eb9-2198fb63c320",
   "metadata": {},
   "outputs": [
    {
     "name": "stdout",
     "output_type": "stream",
     "text": [
      "[0]\ttrain-rmse:10.37456\tval-rmse:10.37545\n",
      "[5]\ttrain-rmse:6.13433\tval-rmse:6.13236\n",
      "[10]\ttrain-rmse:3.63299\tval-rmse:3.62939\n",
      "[15]\ttrain-rmse:2.15901\tval-rmse:2.15616\n",
      "[20]\ttrain-rmse:1.29412\tval-rmse:1.29329\n",
      "[25]\ttrain-rmse:0.78993\tval-rmse:0.79342\n",
      "[30]\ttrain-rmse:0.50217\tval-rmse:0.51149\n",
      "[35]\ttrain-rmse:0.34590\tval-rmse:0.36371\n",
      "[40]\ttrain-rmse:0.26743\tval-rmse:0.29345\n",
      "[45]\ttrain-rmse:0.23014\tval-rmse:0.26315\n",
      "[50]\ttrain-rmse:0.21112\tval-rmse:0.24907\n",
      "[55]\ttrain-rmse:0.20315\tval-rmse:0.24427\n",
      "[60]\ttrain-rmse:0.19724\tval-rmse:0.24107\n",
      "[65]\ttrain-rmse:0.19264\tval-rmse:0.23932\n",
      "[70]\ttrain-rmse:0.18911\tval-rmse:0.23824\n",
      "[75]\ttrain-rmse:0.18503\tval-rmse:0.23731\n",
      "[80]\ttrain-rmse:0.18145\tval-rmse:0.23594\n",
      "[85]\ttrain-rmse:0.17807\tval-rmse:0.23475\n",
      "[90]\ttrain-rmse:0.17418\tval-rmse:0.23307\n",
      "[95]\ttrain-rmse:0.17149\tval-rmse:0.23258\n",
      "[99]\ttrain-rmse:0.17000\tval-rmse:0.23234\n",
      "[0]\ttrain-rmse:8.07362\tval-rmse:8.07348\n",
      "[5]\ttrain-rmse:1.38983\tval-rmse:1.38852\n",
      "[10]\ttrain-rmse:0.33195\tval-rmse:0.34802\n",
      "[15]\ttrain-rmse:0.22197\tval-rmse:0.25614\n",
      "[20]\ttrain-rmse:0.20036\tval-rmse:0.24508\n",
      "[25]\ttrain-rmse:0.18991\tval-rmse:0.24021\n",
      "[30]\ttrain-rmse:0.18204\tval-rmse:0.23833\n",
      "[35]\ttrain-rmse:0.17091\tval-rmse:0.23452\n",
      "[40]\ttrain-rmse:0.16422\tval-rmse:0.23379\n",
      "[45]\ttrain-rmse:0.15756\tval-rmse:0.23302\n",
      "[50]\ttrain-rmse:0.15210\tval-rmse:0.23262\n",
      "[55]\ttrain-rmse:0.14633\tval-rmse:0.23167\n",
      "[60]\ttrain-rmse:0.14218\tval-rmse:0.23160\n",
      "[65]\ttrain-rmse:0.13898\tval-rmse:0.23169\n",
      "[70]\ttrain-rmse:0.13471\tval-rmse:0.23108\n",
      "[75]\ttrain-rmse:0.13072\tval-rmse:0.23036\n",
      "[80]\ttrain-rmse:0.12835\tval-rmse:0.23045\n",
      "[85]\ttrain-rmse:0.12534\tval-rmse:0.23010\n",
      "[90]\ttrain-rmse:0.12174\tval-rmse:0.22957\n",
      "[95]\ttrain-rmse:0.11894\tval-rmse:0.22906\n",
      "[99]\ttrain-rmse:0.11656\tval-rmse:0.22897\n"
     ]
    }
   ],
   "source": [
    "for learning_rate in eta:\n",
    "\n",
    "    xgb_params ={\n",
    "    'eta' : learning_rate,\n",
    "    'max_depth' : 6,\n",
    "    'min_child_weight':1,\n",
    "    'objective': 'reg:squarederror',\n",
    "    'nthread':8,\n",
    "    'seed':1,\n",
    "    'verbosity' :1\n",
    "    }\n",
    "\n",
    "    model = xgb.train(xgb_params, dtrain, evals=watchlist, verbose_eval = 5, num_boost_round = 100)\n",
    "    y_pred = model.predict(dval)                                                                               ### !!!!!\n",
    "    rmse = np.sqrt(np.mean((y_pred-y_val)**2))\n",
    "\n",
    "    scores.append(rmse)\n",
    "    "
   ]
  },
  {
   "cell_type": "code",
   "execution_count": 137,
   "id": "aeec44b8-d118-40b9-a864-cc73ab6378ea",
   "metadata": {},
   "outputs": [
    {
     "name": "stdout",
     "output_type": "stream",
     "text": [
      "0.1 0.2323352139407306\n",
      "0.3 0.22897404244864047\n"
     ]
    }
   ],
   "source": [
    "for etas, scores in zip(eta,scores):\n",
    "    print(etas,scores)"
   ]
  },
  {
   "cell_type": "code",
   "execution_count": null,
   "id": "215b4ec7-1bac-42f1-b9d1-0cea13bb6f6e",
   "metadata": {},
   "outputs": [],
   "source": [
    "### A learning rate of 0.3 leads to lower rmse"
   ]
  }
 ],
 "metadata": {
  "kernelspec": {
   "display_name": "Python 3 (ipykernel)",
   "language": "python",
   "name": "python3"
  },
  "language_info": {
   "codemirror_mode": {
    "name": "ipython",
    "version": 3
   },
   "file_extension": ".py",
   "mimetype": "text/x-python",
   "name": "python",
   "nbconvert_exporter": "python",
   "pygments_lexer": "ipython3",
   "version": "3.11.5"
  }
 },
 "nbformat": 4,
 "nbformat_minor": 5
}
